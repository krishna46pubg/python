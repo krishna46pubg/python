{
 "cells": [
  {
   "cell_type": "markdown",
   "id": "914fbbfd",
   "metadata": {},
   "source": [
    "# Import MySQL connector\n"
   ]
  },
  {
   "cell_type": "code",
   "execution_count": 3,
   "id": "bfe2bffa",
   "metadata": {},
   "outputs": [],
   "source": [
    "import mysql.connector as con\n"
   ]
  },
  {
   "cell_type": "markdown",
   "id": "41cd6b4d",
   "metadata": {},
   "source": [
    "# connection to database"
   ]
  },
  {
   "cell_type": "code",
   "execution_count": 6,
   "id": "7eae75e1",
   "metadata": {},
   "outputs": [
    {
     "name": "stdout",
     "output_type": "stream",
     "text": [
      "<mysql.connector.connection_cext.CMySQLConnection object at 0x0000021C6965DC40>\n"
     ]
    }
   ],
   "source": [
    "import mysql.connector as con\n",
    "new_db = con.connect(\n",
    "    host = \"localhost\",\n",
    "    user = \"root\",\n",
    "    password = \"root\",\n",
    ")\n",
    "print(new_db)\n"
   ]
  },
  {
   "cell_type": "markdown",
   "id": "03740b5b",
   "metadata": {},
   "source": [
    "# creating Data Base"
   ]
  },
  {
   "cell_type": "code",
   "execution_count": 19,
   "id": "dcd0961a",
   "metadata": {},
   "outputs": [],
   "source": [
    "new_db = con.connect(\n",
    "    host = \"localhost\",\n",
    "    user = \"root\",\n",
    "    password = \"root\",\n",
    ")\n",
    "my_cursor =new_db.cursor()\n",
    "my_cursor.execute(\"CREATE DATABASE colleg1\")\n"
   ]
  },
  {
   "cell_type": "markdown",
   "id": "1ecc67c6",
   "metadata": {},
   "source": [
    "# check if  database exists"
   ]
  },
  {
   "cell_type": "code",
   "execution_count": 23,
   "id": "8844480c",
   "metadata": {},
   "outputs": [
    {
     "name": "stdout",
     "output_type": "stream",
     "text": [
      "('colleg1',)\n",
      "('information_schema',)\n",
      "('mysql',)\n",
      "('performance_schema',)\n",
      "('sakila',)\n",
      "('sys',)\n",
      "('world',)\n"
     ]
    }
   ],
   "source": [
    "new_db =con.connect(\n",
    "    host =\"localhost\",\n",
    "    user =\"root\",\n",
    "    password =\"root\",\n",
    ")\n",
    "my_cursor =new_db.cursor()\n",
    "my_cursor.execute(\"SHOW DATABASES\")\n",
    "for a in my_cursor:\n",
    "    print(a)\n"
   ]
  },
  {
   "cell_type": "markdown",
   "id": "3e557dda",
   "metadata": {},
   "source": [
    "# Creating Tables and showing data"
   ]
  },
  {
   "cell_type": "code",
   "execution_count": 37,
   "id": "d5920a0c",
   "metadata": {},
   "outputs": [],
   "source": [
    "new_db =con.connect(\n",
    "    host = \"localhost\",\n",
    "    user = \"root\",\n",
    "    password = \"root\",\n",
    "    database = \"colleg1\",\n",
    ")\n",
    "my_cursor =new_db.cursor()\n",
    "my_cursor.execute(\"CREATE TABLE marks (s2 varchar(200),s1 varchar(10))\")"
   ]
  },
  {
   "cell_type": "markdown",
   "id": "90399043",
   "metadata": {},
   "source": [
    "# List all TABLES in new database\n"
   ]
  },
  {
   "cell_type": "code",
   "execution_count": 38,
   "id": "36821ff6",
   "metadata": {},
   "outputs": [
    {
     "name": "stdout",
     "output_type": "stream",
     "text": [
      "('marks',)\n",
      "('student',)\n"
     ]
    }
   ],
   "source": [
    "new_db =con.connect(\n",
    "    host =\"localhost\",\n",
    "    user =\"root\",\n",
    "    password =\"root\",\n",
    "    database =\"colleg1\",\n",
    ")\n",
    "my_cursor =new_db.cursor()\n",
    "my_cursor.execute(\"SHOW TABLES\")\n",
    "for n in my_cursor:\n",
    "    print(n)"
   ]
  },
  {
   "cell_type": "markdown",
   "id": "3d0dffad",
   "metadata": {},
   "source": [
    "# inserting data into tables"
   ]
  },
  {
   "cell_type": "code",
   "execution_count": 48,
   "id": "97efa9af",
   "metadata": {},
   "outputs": [
    {
     "name": "stdout",
     "output_type": "stream",
     "text": [
      "1 new record inserted\n"
     ]
    }
   ],
   "source": [
    "new_db =con.connect(\n",
    "    host =\"localhost\",\n",
    "    user =\"root\",\n",
    "    password =\"root\",\n",
    "    database =\"colleg1\",\n",
    ")\n",
    "my_cursor =new_db.cursor()\n",
    "query = \"INSERT INTO student (name,regno) VALUES (%s,%s)\"\n",
    "VALUES =(\"krishna\",\"393cs20009\")\n",
    "my_cursor.execute(query,VALUES)\n",
    "new_db.commit()\n",
    "print(my_cursor.rowcount, \"new record inserted\")\n"
   ]
  },
  {
   "cell_type": "markdown",
   "id": "bcbb862a",
   "metadata": {},
   "source": [
    "# inserting multiple records into tables"
   ]
  },
  {
   "cell_type": "code",
   "execution_count": 60,
   "id": "3ffc5a8c",
   "metadata": {},
   "outputs": [
    {
     "name": "stdout",
     "output_type": "stream",
     "text": [
      "4 new record inserted\n"
     ]
    }
   ],
   "source": [
    "new_db =con.connect(\n",
    "    host =\"localhost\",\n",
    "    user =\"root\",\n",
    "    password =\"root\",\n",
    "    database =\"colleg1\",\n",
    ")\n",
    "my_cursor =new_db.cursor()\n",
    "query = \"INSERT INTO student (name,regno) VALUES (%s,%s)\"\n",
    "VALUES =[(\"krishna\", \"393cs2009\"),\n",
    "         (\"harshed\", \"393cs20006\"),\n",
    "         (\"rahul\", \"393cs20004\"),\n",
    "         (\"akash\", \"393cs20002\")\n",
    "        ]\n",
    "my_cursor.executemany(query,VALUES)\n",
    "new_db.commit()\n",
    "print(my_cursor.rowcount, \"new record inserted\")"
   ]
  },
  {
   "cell_type": "markdown",
   "id": "741fd241",
   "metadata": {},
   "source": [
    "# desplay records from the tables"
   ]
  },
  {
   "cell_type": "code",
   "execution_count": 65,
   "id": "a62ca007",
   "metadata": {},
   "outputs": [
    {
     "name": "stdout",
     "output_type": "stream",
     "text": [
      "('krishna', '393cs20009')\n",
      "('krishna', '393cs20009')\n",
      "('krishna', '393cs20009')\n",
      "('krishna', '393cs2009')\n",
      "('harshed', '393cs20006')\n",
      "('rahul', '393cs20004')\n",
      "('akash', '393cs20002')\n"
     ]
    }
   ],
   "source": [
    "my_cursor =new_db.cursor()\n",
    "query = \"SELECT * FROM student\"\n",
    "my_cursor.execute(query)\n",
    "for i in my_cursor:\n",
    "    print(i)\n"
   ]
  },
  {
   "cell_type": "markdown",
   "id": "380361ab",
   "metadata": {},
   "source": [
    "# display particular record from database"
   ]
  },
  {
   "cell_type": "code",
   "execution_count": 3,
   "id": "e94fe5ed",
   "metadata": {},
   "outputs": [
    {
     "name": "stdout",
     "output_type": "stream",
     "text": [
      "('krishna',)\n",
      "('krishna',)\n",
      "('krishna',)\n",
      "('krishna',)\n",
      "('harshed',)\n",
      "('rahul',)\n",
      "('akash',)\n"
     ]
    }
   ],
   "source": [
    "import mysql.connector as con\n",
    "new_db = con.connect(\n",
    "    host = \"localhost\",\n",
    "    user = \"root\",\n",
    "    password = \"root\",\n",
    "    database =\"colleg1\"\n",
    ")\n",
    "my_cursor =new_db.cursor()\n",
    "query = \"SELECT name FROM student\"\n",
    "my_cursor.execute(query)\n",
    "for i in my_cursor:\n",
    "    print(i)\n"
   ]
  },
  {
   "cell_type": "code",
   "execution_count": null,
   "id": "a1f6028a",
   "metadata": {},
   "outputs": [],
   "source": []
  }
 ],
 "metadata": {
  "kernelspec": {
   "display_name": "Python 3 (ipykernel)",
   "language": "python",
   "name": "python3"
  },
  "language_info": {
   "codemirror_mode": {
    "name": "ipython",
    "version": 3
   },
   "file_extension": ".py",
   "mimetype": "text/x-python",
   "name": "python",
   "nbconvert_exporter": "python",
   "pygments_lexer": "ipython3",
   "version": "3.9.12"
  }
 },
 "nbformat": 4,
 "nbformat_minor": 5
}
